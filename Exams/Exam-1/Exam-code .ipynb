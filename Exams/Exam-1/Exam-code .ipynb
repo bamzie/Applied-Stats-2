{
 "cells": [
  {
   "cell_type": "markdown",
   "id": "550f2306",
   "metadata": {},
   "source": [
    "# Problem 13 #"
   ]
  },
  {
   "cell_type": "code",
   "execution_count": 9,
   "id": "2659266d",
   "metadata": {},
   "outputs": [
    {
     "data": {
      "text/html": [
       "0.460961943694225"
      ],
      "text/latex": [
       "0.460961943694225"
      ],
      "text/markdown": [
       "0.460961943694225"
      ],
      "text/plain": [
       "[1] 0.4609619"
      ]
     },
     "metadata": {},
     "output_type": "display_data"
    },
    {
     "data": {
      "text/html": [
       "0.515025641682264"
      ],
      "text/latex": [
       "0.515025641682264"
      ],
      "text/markdown": [
       "0.515025641682264"
      ],
      "text/plain": [
       "[1] 0.5150256"
      ]
     },
     "metadata": {},
     "output_type": "display_data"
    }
   ],
   "source": [
    "beta = 20.657; mu = 0; se = 44.81281; \n",
    "z = (beta - mu)/se\n",
    "z\n",
    "\n",
    "beta = -0.06149; mu = 0; se = 0.09445; \n",
    "z = (beta - mu)/se\n",
    "p = 2*(1 - pnorm(abs(z)))\n",
    "p"
   ]
  },
  {
   "cell_type": "code",
   "execution_count": 17,
   "id": "d2f80cb5",
   "metadata": {},
   "outputs": [
    {
     "data": {
      "text/html": [
       "1.79497256118158"
      ],
      "text/latex": [
       "1.79497256118158"
      ],
      "text/markdown": [
       "1.79497256118158"
      ],
      "text/plain": [
       "[1] 1.794973"
      ]
     },
     "metadata": {},
     "output_type": "display_data"
    },
    {
     "data": {
      "text/html": [
       "-1.34715062810913"
      ],
      "text/latex": [
       "-1.34715062810913"
      ],
      "text/markdown": [
       "-1.34715062810913"
      ],
      "text/plain": [
       "[1] -1.347151"
      ]
     },
     "metadata": {},
     "output_type": "display_data"
    },
    {
     "data": {
      "text/html": [
       "0.0300540389611998"
      ],
      "text/latex": [
       "0.0300540389611998"
      ],
      "text/markdown": [
       "0.0300540389611998"
      ],
      "text/plain": [
       "[1] 0.03005404"
      ]
     },
     "metadata": {},
     "output_type": "display_data"
    }
   ],
   "source": [
    "x = 27.8; mu = 28.5; s= sqrt(3.24); n = 12; \n",
    "\n",
    "t = (x - mu)/(s/sqrt(n))\n",
    "2*pt(abs(t),df=n-1)\n",
    "t\n",
    "1-pnorm(1.88)"
   ]
  }
 ],
 "metadata": {
  "kernelspec": {
   "display_name": "R",
   "language": "R",
   "name": "ir"
  },
  "language_info": {
   "codemirror_mode": "r",
   "file_extension": ".r",
   "mimetype": "text/x-r-source",
   "name": "R",
   "pygments_lexer": "r",
   "version": "3.6.1"
  }
 },
 "nbformat": 4,
 "nbformat_minor": 5
}
