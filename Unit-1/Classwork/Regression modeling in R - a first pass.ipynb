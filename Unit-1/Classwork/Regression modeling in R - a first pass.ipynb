{
 "cells": [
  {
   "cell_type": "markdown",
   "metadata": {
    "deletable": false,
    "editable": false,
    "nbgrader": {
     "cell_type": "markdown",
     "checksum": "0b79243385f60c79409e701c0a0eaf78",
     "grade": false,
     "grade_id": "cell-3b093e97d8c26055",
     "locked": true,
     "schema_version": 3,
     "solution": false,
     "task": false
    }
   },
   "source": [
    "# Regression modeling in R - a first pass\n",
    "\n",
    "The following dataset containts measurements related to the impact of three advertising medias on sales of a product, $P$. The variables are:\n",
    "\n",
    "- `youtube`: the advertising budget allocated to YouTube. Measured in thousands of dollars;\n",
    "\n",
    "- `facebook`: the advertising budget allocated to Facebook. Measured in thousands of dollars; and \n",
    "\n",
    "- `newspaper`: the advertising budget allocated to a local newspaper. Measured in thousands of dollars.\n",
    "\n",
    "- `sales`: the value in the $i^{th}$ row of the sales column is a measurement of the sales (in thousands of units) for product $P$ for company $i$.\n",
    "\n",
    "The advertising data treat \"a company selling product $P$\" as the statistical unit, and \"all companies selling product $P$\" as the population. We assume that the $n = 200$ companies in the dataset were chosen at random from the population (a strong assumption!)."
   ]
  },
  {
   "cell_type": "code",
   "execution_count": null,
   "metadata": {
    "deletable": false,
    "editable": false,
    "nbgrader": {
     "cell_type": "code",
     "checksum": "696de99492f776e5c630139fc8ba2930",
     "grade": false,
     "grade_id": "cell-1a188009715d250c",
     "locked": true,
     "schema_version": 3,
     "solution": false,
     "task": false
    }
   },
   "outputs": [],
   "source": [
    "library(testthat)"
   ]
  },
  {
   "cell_type": "code",
   "execution_count": null,
   "metadata": {
    "deletable": false,
    "editable": false,
    "nbgrader": {
     "cell_type": "code",
     "checksum": "e1b39770d305729a3fc4730375e03a56",
     "grade": false,
     "grade_id": "cell-6d9d7df468ea7a4b",
     "locked": true,
     "schema_version": 3,
     "solution": false,
     "task": false
    }
   },
   "outputs": [],
   "source": [
    "library(RCurl) #a package that includes the function getURL(), which allows for reading data from github.\n",
    "library(ggplot2)\n",
    "url = getURL(\"https://raw.githubusercontent.com/bzaharatos/-Statistical-Modeling-for-Data-Science-Applications/master/Modern%20Regression%20Analysis%20/Datasets/marketing.txt\")\n",
    "marketing = read.csv(text = url, sep = \"\")\n",
    "data(marketing)\n",
    "head(marketing)"
   ]
  },
  {
   "cell_type": "markdown",
   "metadata": {
    "deletable": false,
    "editable": false,
    "nbgrader": {
     "cell_type": "markdown",
     "checksum": "f2a18b1da07212e1fc2602b61d390142",
     "grade": false,
     "grade_id": "cell-56e2bf2e1ced8d6e",
     "locked": true,
     "schema_version": 3,
     "solution": false,
     "task": false
    }
   },
   "source": [
    "## Exploratory data analysis\n",
    "\n",
    "Before we model the data, let's first explore the data. We'll first check to see whether there are any missing values in the dataset. Then, we'll take a look at some univariate and bivariate summaries of the data.\n",
    "\n",
    "*Note that, in an earlier lesson, we discussed the importance of randomly partitioning the data, and using one subset of the data for exploratory data analysis, another for fitting the model, and then possibly a third for model validation. However, for this dataset, there are only $n = 200$ units in the sample, and so there is not enough data for three robust subsets. So, we'll proceed to perform EDA on the entire dataset, but noting that our conclusions may be less certain because of the possibility of error due to \"double dipping\".*\n",
    "\n",
    "### Missing data and univariate explorations"
   ]
  },
  {
   "cell_type": "markdown",
   "metadata": {
    "deletable": false,
    "editable": false,
    "nbgrader": {
     "cell_type": "markdown",
     "checksum": "55ad85916834a731d9a7b4f476debf67",
     "grade": false,
     "grade_id": "cell-50202e85691bb6dc",
     "locked": true,
     "schema_version": 3,
     "solution": false,
     "task": false
    }
   },
   "source": [
    "Are there any missing values coded as `NA`? Or, are there any odd values for variables, e.g., `9999` or `0` possibly standing in for a missing value? "
   ]
  },
  {
   "cell_type": "code",
   "execution_count": null,
   "metadata": {
    "deletable": false,
    "nbgrader": {
     "cell_type": "code",
     "checksum": "27588e27c1474294f5845ff3dc740ae6",
     "grade": true,
     "grade_id": "cell-26ed0be07edea25c",
     "locked": false,
     "points": 0,
     "schema_version": 3,
     "solution": true,
     "task": false
    }
   },
   "outputs": [],
   "source": [
    "#YOUR CODE HERE\n",
    "fail() # No Answer - remove if you provide an answer"
   ]
  },
  {
   "cell_type": "markdown",
   "metadata": {
    "deletable": false,
    "nbgrader": {
     "cell_type": "markdown",
     "checksum": "321d6b4ae13efaea22969c9756f181c1",
     "grade": true,
     "grade_id": "cell-f7b7c8edf8555b21",
     "locked": false,
     "points": 0,
     "schema_version": 3,
     "solution": true,
     "task": false
    }
   },
   "source": [
    "YOUR ANSWER HERE"
   ]
  },
  {
   "cell_type": "markdown",
   "metadata": {
    "deletable": false,
    "editable": false,
    "nbgrader": {
     "cell_type": "markdown",
     "checksum": "b3269e1616893217f5fa9e1c6feca32f",
     "grade": false,
     "grade_id": "cell-bdba0772b86e2b97",
     "locked": true,
     "schema_version": 3,
     "solution": false,
     "task": false
    }
   },
   "source": [
    "Construct a histogram of each of the variables and comment on their distributions."
   ]
  },
  {
   "cell_type": "code",
   "execution_count": null,
   "metadata": {
    "deletable": false,
    "nbgrader": {
     "cell_type": "code",
     "checksum": "440ce7c0e95805615e50e586b1543d6a",
     "grade": true,
     "grade_id": "cell-1e42b8102bbf65fd",
     "locked": false,
     "points": 0,
     "schema_version": 3,
     "solution": true,
     "task": false
    }
   },
   "outputs": [],
   "source": [
    "#YOUR CODE HERE\n",
    "fail() # No Answer - remove if you provide an answer"
   ]
  },
  {
   "cell_type": "markdown",
   "metadata": {
    "deletable": false,
    "nbgrader": {
     "cell_type": "markdown",
     "checksum": "ce8d1a6c4636b1e7a8bff8465c9aecf2",
     "grade": true,
     "grade_id": "cell-c2ff1f73797e19d5",
     "locked": false,
     "points": 0,
     "schema_version": 3,
     "solution": true,
     "task": false
    }
   },
   "source": [
    "YOUR ANSWER HERE"
   ]
  },
  {
   "cell_type": "markdown",
   "metadata": {
    "deletable": false,
    "editable": false,
    "nbgrader": {
     "cell_type": "markdown",
     "checksum": "bfd5282c0621d0cadbb561c061c3e298",
     "grade": false,
     "grade_id": "cell-7a5a5f088276f757",
     "locked": true,
     "schema_version": 3,
     "solution": false,
     "task": false
    }
   },
   "source": [
    "As you may have noticed from the histogram of `newspaper`, there may be a few outliers. Let's look at some boxplots to see in further detail. Note that R classifies potential outliers by the \"IQR criterion\". This criterion means that all observations above $q_{0.75}+1.5\\times IQR$ or below $q_{0.25}-1.5\\times IQR$ are classified as outliers, where \n",
    "\n",
    "- $q_{0.25}$ is the first quartile;\n",
    "- $q_{0.75}$ is the third quartile. \n",
    "- IQR is the interquartile range, defined as the difference between the third and first quartile. \n",
    "\n",
    "A boxplot wil \"flag\" the outliers. Construct a boxplot for each variable and comment on the existence of potential outliers."
   ]
  },
  {
   "cell_type": "code",
   "execution_count": null,
   "metadata": {
    "deletable": false,
    "nbgrader": {
     "cell_type": "code",
     "checksum": "afa4bedb0574c9a26bcaccb1829b669d",
     "grade": true,
     "grade_id": "cell-beea0399f8af91dc",
     "locked": false,
     "points": 0,
     "schema_version": 3,
     "solution": true,
     "task": false
    }
   },
   "outputs": [],
   "source": [
    "#YOUR CODE HERE\n",
    "fail() # No Answer - remove if you provide an answer"
   ]
  },
  {
   "cell_type": "markdown",
   "metadata": {
    "deletable": false,
    "nbgrader": {
     "cell_type": "markdown",
     "checksum": "70f32fca717ac4987f918121807963bc",
     "grade": true,
     "grade_id": "cell-af8a640ee61b4247",
     "locked": false,
     "points": 0,
     "schema_version": 3,
     "solution": true,
     "task": false
    }
   },
   "source": [
    "YOUR ANSWER HERE"
   ]
  },
  {
   "cell_type": "markdown",
   "metadata": {
    "deletable": false,
    "editable": false,
    "nbgrader": {
     "cell_type": "markdown",
     "checksum": "5db952d4e0337eef0e1357738784e633",
     "grade": false,
     "grade_id": "cell-f75d22da932c67f4",
     "locked": true,
     "schema_version": 3,
     "solution": false,
     "task": false
    }
   },
   "source": [
    "### Bivariate explorations\n",
    "Let's now explore how the variables may or may not relate to each other. First, calculate the correlations between variables. Correlations can help us meaasure the strength of the linear relationship between variables. The bland way to do this is with to `cor()` function. But try the `corrplot()` function in the `corrplot` library (which you'll need to install in your R environment in Anaconda). Comment on the correlations."
   ]
  },
  {
   "cell_type": "code",
   "execution_count": null,
   "metadata": {
    "deletable": false,
    "nbgrader": {
     "cell_type": "code",
     "checksum": "adafc0535429be83ef5a526b764c7faa",
     "grade": true,
     "grade_id": "cell-3c9fa8d06cf9ec8c",
     "locked": false,
     "points": 0,
     "schema_version": 3,
     "solution": true,
     "task": false
    }
   },
   "outputs": [],
   "source": [
    "library(corrplot)\n",
    "#YOUR CODE HERE\n",
    "fail() # No Answer - remove if you provide an answer"
   ]
  },
  {
   "cell_type": "markdown",
   "metadata": {
    "deletable": false,
    "nbgrader": {
     "cell_type": "markdown",
     "checksum": "be25710bc4c784e7951eed8b17aeb04a",
     "grade": true,
     "grade_id": "cell-34c8b032a0894958",
     "locked": false,
     "points": 0,
     "schema_version": 3,
     "solution": true,
     "task": false
    }
   },
   "source": [
    "YOUR ANSWER HERE"
   ]
  },
  {
   "cell_type": "markdown",
   "metadata": {
    "deletable": false,
    "editable": false,
    "nbgrader": {
     "cell_type": "markdown",
     "checksum": "4bacab666c0bc0ce23025be525dd6652",
     "grade": false,
     "grade_id": "cell-4a680f8eb41da578",
     "locked": true,
     "schema_version": 3,
     "solution": false,
     "task": false
    }
   },
   "source": [
    "However, knowing correlations alone isn't enough; the correlation coefficient can be misleading if there are nonlinear relationships, and so we should explore the relationships further.\n",
    "\n",
    "To do so, we'll look at pairwise scatter plots, i.e., a scatter plot of each variable with each other variable. We should be looking for:\n",
    "\n",
    "- Relationships between the response and each predictor. \n",
    "- Relationships between predictor variables. Such relationships are undesirable.\n",
    "\n",
    "Create all possible pairwise scatter plots of the data (the `pairs()` function may help). Comment on the observed relationships."
   ]
  },
  {
   "cell_type": "code",
   "execution_count": null,
   "metadata": {
    "deletable": false,
    "nbgrader": {
     "cell_type": "code",
     "checksum": "251624f81586c58c6fff85509acda17b",
     "grade": true,
     "grade_id": "cell-a503c08982093d95",
     "locked": false,
     "points": 0,
     "schema_version": 3,
     "solution": true,
     "task": false
    }
   },
   "outputs": [],
   "source": [
    "#YOUR CODE HERE\n",
    "fail() # No Answer - remove if you provide an answer"
   ]
  },
  {
   "cell_type": "markdown",
   "metadata": {
    "deletable": false,
    "nbgrader": {
     "cell_type": "markdown",
     "checksum": "dea0c318c3386791c158dc222c5c1e41",
     "grade": true,
     "grade_id": "cell-508f4003e6d59c6b",
     "locked": false,
     "points": 0,
     "schema_version": 3,
     "solution": true,
     "task": false
    }
   },
   "source": [
    "YOUR ANSWER HERE"
   ]
  },
  {
   "cell_type": "markdown",
   "metadata": {
    "deletable": false,
    "editable": false,
    "nbgrader": {
     "cell_type": "markdown",
     "checksum": "6b4f2cb3716d43f8f7673c43eb050b9b",
     "grade": false,
     "grade_id": "cell-78bb235d2d0bc58c",
     "locked": true,
     "schema_version": 3,
     "solution": false,
     "task": false
    }
   },
   "source": [
    "## Linear regression modeling\n",
    "\n",
    "First, let's randomly split the data into a \"training set\" and \"testing set\". We do this so that we can train/fit the linear model on the training set, and then, if necessary, see how well the model fits (e.g., does it make reasonable predictions?) in the testing set. In this lesson, we will only briefly look at fit metrics on the testing set; but, it's good practice to split the data in this (or a similar) way when wanting to assess the fit or predictive power of the model.\n",
    "\n",
    "Write code to randomly select $80\\%$ of the rows from the `marketing` dataframe. Store these rows in a dataframe `train`. Then, store the remaining rows in a dataframe called `test`."
   ]
  },
  {
   "cell_type": "code",
   "execution_count": null,
   "metadata": {
    "deletable": false,
    "nbgrader": {
     "cell_type": "code",
     "checksum": "fad1949098161cce3b852b6ea530f4dd",
     "grade": false,
     "grade_id": "cell-1d3406db2748d991",
     "locked": false,
     "schema_version": 3,
     "solution": true,
     "task": false
    }
   },
   "outputs": [],
   "source": [
    "set.seed(11) #set the random number generator seed.\n",
    "#YOUR CODE HERE\n",
    "fail() # No Answer - remove if you provide an answer"
   ]
  },
  {
   "cell_type": "code",
   "execution_count": null,
   "metadata": {
    "deletable": false,
    "editable": false,
    "nbgrader": {
     "cell_type": "code",
     "checksum": "4bc46e5ef8cbf852a820f0b0d2c9a890",
     "grade": true,
     "grade_id": "cell-c8efb65c77f7343b",
     "locked": true,
     "points": 4,
     "schema_version": 3,
     "solution": false,
     "task": false
    }
   },
   "outputs": [],
   "source": []
  },
  {
   "cell_type": "markdown",
   "metadata": {
    "deletable": false,
    "editable": false,
    "nbgrader": {
     "cell_type": "markdown",
     "checksum": "a64a1c0d0f64f7a638d170cfea97d801",
     "grade": false,
     "grade_id": "cell-13bd375b0dd98afa",
     "locked": true,
     "schema_version": 3,
     "solution": false,
     "task": false
    }
   },
   "source": [
    "### The `lm()` function\n",
    "\n",
    "`R` has a great function for fitting and summarizing linear regression models: the `lm()` function. `lm()` will fit a linear regression model to data using least squares (or other methods, when specified), and provide many summary statistics. Let's look at some basics of `lm()`. As we progress through the course, we'll learn to work with more and more of the output of the `lm()` function.\n",
    "\n",
    "The `lm()` function may take in several arguments, but only a small number of them are required. The first required argument is the `formula`: it should be in the following format: `response ~ predictor1 + predictor2 + ... + predictorP`. If your data are stored in a dataframe (which will often be the case), then the simplest thing to do is specify a second argument, namely `data = NameOfDataFrame`. Let's use `lm()` on the training subset of the marketing data, with just `facebook` as a predictor. **Be sure to use the training data (not the entire marketing data). Store your `lm()` object in the variable `lm_marketing`.**\n",
    "\n",
    "After you've fit the model using `lm()`, clearly write out the fitted model and interpret the parameter estimates."
   ]
  },
  {
   "cell_type": "code",
   "execution_count": null,
   "metadata": {
    "deletable": false,
    "nbgrader": {
     "cell_type": "code",
     "checksum": "5ebbab468f49a6ca4304fe3371edc716",
     "grade": false,
     "grade_id": "cell-16ff7f1238f84e65",
     "locked": false,
     "schema_version": 3,
     "solution": true,
     "task": false
    }
   },
   "outputs": [],
   "source": [
    "#YOUR CODE HERE\n",
    "fail() # No Answer - remove if you provide an answer"
   ]
  },
  {
   "cell_type": "code",
   "execution_count": null,
   "metadata": {
    "deletable": false,
    "editable": false,
    "nbgrader": {
     "cell_type": "code",
     "checksum": "0f4ff4b5d92876da237bc9c9afad0ed1",
     "grade": true,
     "grade_id": "cell-1970f94d2ab8dba0",
     "locked": true,
     "points": 1,
     "schema_version": 3,
     "solution": false,
     "task": false
    }
   },
   "outputs": [],
   "source": []
  },
  {
   "cell_type": "markdown",
   "metadata": {
    "deletable": false,
    "nbgrader": {
     "cell_type": "markdown",
     "checksum": "d686047c1f511bb1cca25766fecc446a",
     "grade": true,
     "grade_id": "cell-05656d7e6a8ec464",
     "locked": false,
     "points": 2,
     "schema_version": 3,
     "solution": true,
     "task": false
    }
   },
   "source": [
    "YOUR ANSWER HERE"
   ]
  },
  {
   "cell_type": "markdown",
   "metadata": {
    "deletable": false,
    "editable": false,
    "nbgrader": {
     "cell_type": "markdown",
     "checksum": "39d2b4072a187da6b8a13ab1a47b6bfa",
     "grade": false,
     "grade_id": "cell-f5ecbd3e0d4284b7",
     "locked": true,
     "schema_version": 3,
     "solution": false,
     "task": false
    }
   },
   "source": [
    "#### Computing regression quantities \"by hand\"\n",
    "\n",
    "Let's connect the `lm()` function output to the computations that we learned about in class. First, let's construct the \"design matrix\", $X$, i.e., the matrix with a column of `1's`, and then columns for each predictor."
   ]
  },
  {
   "cell_type": "code",
   "execution_count": null,
   "metadata": {
    "deletable": false,
    "editable": false,
    "nbgrader": {
     "cell_type": "code",
     "checksum": "be6c08bf470fc6815e667febcb1d81f2",
     "grade": false,
     "grade_id": "cell-7d90ffe769713359",
     "locked": true,
     "schema_version": 3,
     "solution": false,
     "task": false
    }
   },
   "outputs": [],
   "source": [
    "X = cbind(1, train$facebook) \n",
    "\n",
    "#another way to do this:\n",
    "#X1 = model.matrix(lm_marketing)\n",
    "#sum(X-X1)"
   ]
  },
  {
   "cell_type": "markdown",
   "metadata": {
    "deletable": false,
    "editable": false,
    "nbgrader": {
     "cell_type": "markdown",
     "checksum": "bfba1e112d30386886f9047ad430e7be",
     "grade": false,
     "grade_id": "cell-734c59336f23259a",
     "locked": true,
     "schema_version": 3,
     "solution": false,
     "task": false
    }
   },
   "source": [
    "Recall that the least squares solution is: $\\boldsymbol{\\widehat\\beta} = \\left(X^TX \\right)^{-1}X^T\\mathbf{y}$. To compute this \"by hand\" in `R`, we'll need the transpose function, `t()`, the operator for matrix multiplication, `%*%`, and the function for finding the inverse of a matrix, `solve()`. Use these functions to compute the least squares solution without using the `lm()` function. Store your result in the variable `b`, which should end up being a column vector. *Be sure to use the training set for this answer. `b` should match the estimate column from `lm()`.*\n",
    "\n",
    "(Imoprtantly, this is *not* how `lm()` in `R` (or other software packates, like `Python`) actually computes the least squares estimates. Instead, they use methods that are less computationally expensive. We are computing the least squares estimates in this way to show that the theory from class matches the values from `R`. The theory will be important for our understanding and interpretation of linear regression.)"
   ]
  },
  {
   "cell_type": "code",
   "execution_count": null,
   "metadata": {
    "deletable": false,
    "nbgrader": {
     "cell_type": "code",
     "checksum": "303d040d5492392ef6d74d2ec9b28d56",
     "grade": false,
     "grade_id": "cell-2f7f22c2a9359bad",
     "locked": false,
     "schema_version": 3,
     "solution": true,
     "task": false
    }
   },
   "outputs": [],
   "source": [
    "#YOUR CODE HERE\n",
    "fail() # No Answer - remove if you provide an answer"
   ]
  },
  {
   "cell_type": "code",
   "execution_count": null,
   "metadata": {
    "deletable": false,
    "editable": false,
    "nbgrader": {
     "cell_type": "code",
     "checksum": "23d8fb614ef7c3bf1cd1a568104bf270",
     "grade": true,
     "grade_id": "cell-a9fab62e1a732b90",
     "locked": true,
     "points": 1,
     "schema_version": 3,
     "solution": false,
     "task": false
    }
   },
   "outputs": [],
   "source": []
  },
  {
   "cell_type": "markdown",
   "metadata": {
    "deletable": false,
    "editable": false,
    "nbgrader": {
     "cell_type": "markdown",
     "checksum": "6e144f6ecd4e85ed373f6865fce06801",
     "grade": false,
     "grade_id": "cell-480836cd90cb72ad",
     "locked": true,
     "schema_version": 3,
     "solution": false,
     "task": false
    }
   },
   "source": [
    "Now compute the fitted values and residuals of the model. Store them in the variables `yhat` and `r`, respectively."
   ]
  },
  {
   "cell_type": "code",
   "execution_count": null,
   "metadata": {
    "deletable": false,
    "nbgrader": {
     "cell_type": "code",
     "checksum": "ef62853f8684aa29ff56a9cb08982d8e",
     "grade": false,
     "grade_id": "cell-ba7dc4e53d25cf66",
     "locked": false,
     "schema_version": 3,
     "solution": true,
     "task": false
    }
   },
   "outputs": [],
   "source": [
    "#YOUR CODE HERE\n",
    "fail() # No Answer - remove if you provide an answer"
   ]
  },
  {
   "cell_type": "code",
   "execution_count": null,
   "metadata": {
    "deletable": false,
    "editable": false,
    "nbgrader": {
     "cell_type": "code",
     "checksum": "62984ceba5f91b0097fdad8468b8a477",
     "grade": true,
     "grade_id": "cell-d08022d8e50d282a",
     "locked": true,
     "points": 2,
     "schema_version": 3,
     "solution": false,
     "task": false
    }
   },
   "outputs": [],
   "source": []
  },
  {
   "cell_type": "markdown",
   "metadata": {
    "deletable": false,
    "editable": false,
    "nbgrader": {
     "cell_type": "markdown",
     "checksum": "17eabf966ff33fec7c3d29b3282e5b13",
     "grade": false,
     "grade_id": "cell-0dffe5449165457f",
     "locked": true,
     "schema_version": 3,
     "solution": false,
     "task": false
    }
   },
   "source": [
    "## Visualizing the regression model\n",
    "\n",
    "We will learn a few important visualizations of the linear regression model in the modules to come. For now, let's just visualize our data with the regression model imposed on it.\n",
    "\n",
    "Construct a scatter plot of `sales` ($y$) against `facebook` ($x$) *from the training data*, and plot the fitted line over the data. You can use \"base R\" functions like `plot()` and `abline()`, or be fancy and use `ggplot()`!\n"
   ]
  },
  {
   "cell_type": "code",
   "execution_count": null,
   "metadata": {
    "deletable": false,
    "nbgrader": {
     "cell_type": "code",
     "checksum": "7d0db068f5f4aed93574cb389fef3e76",
     "grade": true,
     "grade_id": "cell-a96d47e3364de0a3",
     "locked": false,
     "points": 0,
     "schema_version": 3,
     "solution": true,
     "task": false
    }
   },
   "outputs": [],
   "source": [
    "#YOUR CODE HERE\n",
    "fail() # No Answer - remove if you provide an answer"
   ]
  },
  {
   "cell_type": "markdown",
   "metadata": {
    "deletable": false,
    "editable": false,
    "nbgrader": {
     "cell_type": "markdown",
     "checksum": "482b7d8827cbc26ae8012c76c14b0c64",
     "grade": false,
     "grade_id": "cell-08e6a036571e07c8",
     "locked": true,
     "schema_version": 3,
     "solution": false,
     "task": false
    }
   },
   "source": [
    "Note that the fit looks OK, but that there is a lot of variability in `sales`, especially for higher values of `facebook`. Imagine making a prediction for `sales` for `facebook = 60`:"
   ]
  },
  {
   "cell_type": "code",
   "execution_count": null,
   "metadata": {
    "deletable": false,
    "editable": false,
    "nbgrader": {
     "cell_type": "code",
     "checksum": "42201e940ad9582ff863f3e74eb1ee8f",
     "grade": false,
     "grade_id": "cell-3162ba23289064ea",
     "locked": true,
     "schema_version": 3,
     "solution": false,
     "task": false
    }
   },
   "outputs": [],
   "source": [
    "yhat_60 = as.numeric(round(coef(lm_marketing)[1] + coef(lm_marketing)[2]*60, 2))"
   ]
  },
  {
   "cell_type": "markdown",
   "metadata": {
    "deletable": false,
    "editable": false,
    "nbgrader": {
     "cell_type": "markdown",
     "checksum": "bdc77adb91e73f9cb3329e6148ff6762",
     "grade": false,
     "grade_id": "cell-9d0269dca38eaa66",
     "locked": true,
     "schema_version": 3,
     "solution": false,
     "task": false
    }
   },
   "source": [
    "The model predicts `sales = 22.9`: that is, the model predicts that a company with a facebook marketing budget of $\\$60,000$ will sell $22,900$ units of product $P$, on average. But look at other measurements near $\\$60,000$; based on the data, sales could be as low as $9,000$ units or over $30,000$ units."
   ]
  },
  {
   "cell_type": "markdown",
   "metadata": {
    "deletable": false,
    "editable": false,
    "nbgrader": {
     "cell_type": "markdown",
     "checksum": "ff0347d9788c2dfd38a9762278c117bb",
     "grade": false,
     "grade_id": "cell-b5a7e2f1ff1f41e8",
     "locked": true,
     "schema_version": 3,
     "solution": false,
     "task": false
    }
   },
   "source": [
    "Finally, let's take a look at how the plot would look using the testing data instead of the training data. Ideally, we would want the the model to fit well for the testing data too. \n",
    "\n",
    "Construct a scatter plot of `sales` ($y$) against `facebook` ($x$) *from the test data* and plot the fitted line over the data. You can use \"base R\" functions like `plot()` and `abline()`, or be fancy and use `ggplot()`!\n",
    "\n",
    "Note that overlaying the regression line on a scatterplot of the data is not a rigorous way of assessing the fit of the model; later on in the course, we will learn better goodness of fit metrics for linear regression."
   ]
  },
  {
   "cell_type": "code",
   "execution_count": null,
   "metadata": {
    "deletable": false,
    "nbgrader": {
     "cell_type": "code",
     "checksum": "98baef11509cfae4310856b9a20c3182",
     "grade": true,
     "grade_id": "cell-c669140ad313cc34",
     "locked": false,
     "points": 0,
     "schema_version": 3,
     "solution": true,
     "task": false
    }
   },
   "outputs": [],
   "source": [
    "#YOUR CODE HERE\n",
    "fail() # No Answer - remove if you provide an answer"
   ]
  }
 ],
 "metadata": {
  "kernelspec": {
   "display_name": "R",
   "language": "R",
   "name": "ir"
  },
  "language_info": {
   "codemirror_mode": "r",
   "file_extension": ".r",
   "mimetype": "text/x-r-source",
   "name": "R",
   "pygments_lexer": "r",
   "version": "3.6.1"
  }
 },
 "nbformat": 4,
 "nbformat_minor": 2
}
