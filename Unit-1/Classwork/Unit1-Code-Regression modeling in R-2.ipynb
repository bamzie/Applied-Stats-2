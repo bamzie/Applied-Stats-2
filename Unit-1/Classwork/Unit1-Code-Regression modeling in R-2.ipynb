{
 "cells": [
  {
   "cell_type": "markdown",
   "metadata": {
    "deletable": false,
    "editable": false,
    "nbgrader": {
     "cell_type": "markdown",
     "checksum": "4db4a9420fae3f9ad584c4e4e31082a4",
     "grade": false,
     "grade_id": "cell-9e0ef81cf4cfd046",
     "locked": true,
     "schema_version": 3,
     "solution": false,
     "task": false
    }
   },
   "source": [
    "# Regression modeling in R - a second pass\n",
    "\n",
    "The following dataset containts measurements related to the impact of three advertising medias on sales of a product, $P$. The variables are:\n",
    "\n",
    "- `youtube`: the advertising budget allocated to YouTube. Measured in thousands of dollars;\n",
    "\n",
    "- `facebook`: the advertising budget allocated to Facebook. Measured in thousands of dollars; and \n",
    "\n",
    "- `newspaper`: the advertising budget allocated to a local newspaper. Measured in thousands of dollars.\n",
    "\n",
    "- `sales`: the value in the $i^{th}$ row of the sales column is a measurement of the sales (in thousands of units) for product $P$ for company $i$.\n",
    "\n",
    "The advertising data treat \"a company selling product $P$\" as the statistical unit, and \"all companies selling product $P$\" as the population. We assume that the $n = 200$ companies in the dataset were chosen at random from the population (a strong assumption!)."
   ]
  },
  {
   "cell_type": "code",
   "execution_count": null,
   "metadata": {},
   "outputs": [],
   "source": [
    "library(ggplot2)\n",
    "\n",
    "marketing = read.table(url(\"https://raw.githubusercontent.com/bzaharatos/-Statistical-Modeling-for-Data-Science-Applications/master/Modern%20Regression%20Analysis%20/Datasets/marketing.txt\"), sep = \"\")\n",
    "\n",
    "data(marketing)\n",
    "head(marketing)\n",
    "n = dim(marketing)[1]; p = dim(marketing)[2] - 1"
   ]
  },
  {
   "cell_type": "markdown",
   "metadata": {
    "deletable": false,
    "editable": false,
    "nbgrader": {
     "cell_type": "markdown",
     "checksum": "143e6878c350e54775f1abb8827b67af",
     "grade": false,
     "grade_id": "cell-f8020d03ea9706da",
     "locked": true,
     "schema_version": 3,
     "solution": false,
     "task": false
    }
   },
   "source": [
    "Note that, before an analysis, one should explore the data. We did this in \"Regression modeling in R - a first pass\"."
   ]
  },
  {
   "cell_type": "markdown",
   "metadata": {
    "deletable": false,
    "editable": false,
    "nbgrader": {
     "cell_type": "markdown",
     "checksum": "2e5126bea13a66febb144b1f9e441eff",
     "grade": false,
     "grade_id": "cell-c0c62cb5b91a1b8a",
     "locked": true,
     "schema_version": 3,
     "solution": false,
     "task": false
    }
   },
   "source": [
    "## Linear regression modeling\n",
    "\n"
   ]
  },
  {
   "cell_type": "markdown",
   "metadata": {
    "deletable": false,
    "editable": false,
    "nbgrader": {
     "cell_type": "markdown",
     "checksum": "d16efdd19b05f39869fa190193b71432",
     "grade": false,
     "grade_id": "cell-6eefdf15c439fc5b",
     "locked": true,
     "schema_version": 3,
     "solution": false,
     "task": false
    }
   },
   "source": [
    "### Sums of squares and $R^2$ for simple linear regression\n",
    "\n",
    "First, let's fit the same model that we fit in the previous notebook (but to the entire dataset, rather than just a training set). In addition to running a summary of the model (using `summary()`), we'll also run an \"analysis of variance\", using the `anova()` function. The analysis of variance decomposes the total variability ($TSS$) into the explained variability ($ESS$), and the residual/unexplained variability ($RSS$). It also produces an \"F-test\" that we'll learn how to interpret in the next module."
   ]
  },
  {
   "cell_type": "code",
   "execution_count": null,
   "metadata": {},
   "outputs": [],
   "source": [
    "lm_marketing = lm(sales ~ facebook, data = marketing)\n",
    "summary(lm_marketing)\n",
    "anova(lm_marketing)"
   ]
  },
  {
   "cell_type": "markdown",
   "metadata": {
    "deletable": false,
    "editable": false,
    "nbgrader": {
     "cell_type": "markdown",
     "checksum": "7d29e37080edb25c9c591de69262a9fb",
     "grade": false,
     "grade_id": "cell-d45e4544120a7095",
     "locked": true,
     "schema_version": 3,
     "solution": false,
     "task": false
    }
   },
   "source": [
    "From the output, we see that:\n",
    "\n",
    "- $ESS \\approx 2,590.1$\n",
    "- $RSS \\approx 5,210.6$\n",
    "- $TSS \\approx 2,590.1 + 5,210.6 = 7,800.7$"
   ]
  },
  {
   "cell_type": "markdown",
   "metadata": {
    "deletable": false,
    "editable": false,
    "nbgrader": {
     "cell_type": "markdown",
     "checksum": "13a3b1ef4534f6b889efcd0a7bac7de6",
     "grade": false,
     "grade_id": "cell-28b2d3711dadaaff",
     "locked": true,
     "schema_version": 3,
     "solution": false,
     "task": false
    }
   },
   "source": [
    "#### Computing regression quantities \"by hand\"\n",
    "\n",
    "Let's connect the `lm()` function output to the computations that we studied in a previous video. "
   ]
  },
  {
   "cell_type": "code",
   "execution_count": null,
   "metadata": {
    "deletable": false,
    "nbgrader": {
     "cell_type": "code",
     "checksum": "4928dbbbb15db190f6766c1cb617c730",
     "grade": true,
     "grade_id": "cell-3716bdda6dc70952",
     "locked": false,
     "points": 2,
     "schema_version": 3,
     "solution": true,
     "task": false
    }
   },
   "outputs": [],
   "source": [
    "#YOUR CODE HERE\n",
    "fail() # No Answer - remove if you provide an answer"
   ]
  },
  {
   "cell_type": "markdown",
   "metadata": {
    "deletable": false,
    "editable": false,
    "nbgrader": {
     "cell_type": "markdown",
     "checksum": "1855fe4edef21abc6506cb65d3f77665",
     "grade": false,
     "grade_id": "cell-90e04abfe7514645",
     "locked": true,
     "schema_version": 3,
     "solution": false,
     "task": false
    }
   },
   "source": [
    "Note that you can extract these quantities from the `lm()` object:"
   ]
  },
  {
   "cell_type": "code",
   "execution_count": null,
   "metadata": {
    "deletable": false,
    "editable": false,
    "nbgrader": {
     "cell_type": "code",
     "checksum": "654cdfda0d43e5c437709eacb91170ff",
     "grade": false,
     "grade_id": "cell-81e7f829e66ec9c6",
     "locked": true,
     "schema_version": 3,
     "solution": false,
     "task": false
    }
   },
   "outputs": [],
   "source": [
    "cat(paste(\"Explained sum of squares:\", round(anova(lm_marketing)[[2]][1],2)),\n",
    "    paste(\"Residual sum of squares:\",round(anova(lm_marketing)[[2]][2],2)),\n",
    "    paste(\"Total sum of squares:\",round(anova(lm_marketing)[[2]][1] + anova(lm_marketing)[[2]][2],2)),\n",
    "    paste(\"Coefficient of determination:\",round(summary(lm_marketing)$r.squared,2)),\n",
    "       sep = \"\\n\")"
   ]
  },
  {
   "cell_type": "markdown",
   "metadata": {
    "deletable": false,
    "editable": false,
    "nbgrader": {
     "cell_type": "markdown",
     "checksum": "a631adc3666244dacee941b81b72b588",
     "grade": false,
     "grade_id": "cell-56ed4368796037e4",
     "locked": true,
     "schema_version": 3,
     "solution": false,
     "task": false
    }
   },
   "source": [
    "## Multiple linear regression\n",
    "\n",
    "Now, let's include the other predictors in our regression model.\n",
    "\n"
   ]
  },
  {
   "cell_type": "code",
   "execution_count": null,
   "metadata": {
    "deletable": false,
    "nbgrader": {
     "cell_type": "code",
     "checksum": "c357b014e240986e79f26a662c53a068",
     "grade": true,
     "grade_id": "cell-aadca01c1fd45eb4",
     "locked": false,
     "points": 1,
     "schema_version": 3,
     "solution": true,
     "task": false
    }
   },
   "outputs": [],
   "source": [
    "#YOUR CODE HERE\n",
    "fail() # No Answer - remove if you provide an answer"
   ]
  },
  {
   "cell_type": "markdown",
   "metadata": {
    "deletable": false,
    "nbgrader": {
     "cell_type": "markdown",
     "checksum": "1a5e993ed202d31bdcd3162f8efbe804",
     "grade": true,
     "grade_id": "cell-1aa5eee3b7a9159f",
     "locked": false,
     "points": 1,
     "schema_version": 3,
     "solution": true,
     "task": false
    }
   },
   "source": [
    "YOUR ANSWER HERE"
   ]
  },
  {
   "cell_type": "markdown",
   "metadata": {
    "deletable": false,
    "editable": false,
    "nbgrader": {
     "cell_type": "markdown",
     "checksum": "821cb5f52505687906d5443d8bb1f034",
     "grade": false,
     "grade_id": "cell-468ac9b4a1f0bda3",
     "locked": true,
     "schema_version": 3,
     "solution": false,
     "task": false
    }
   },
   "source": [
    "### Sums of squares and $R^2$ for multiple linear regression\n",
    "\n",
    "Note that we can compute the sums of squares for multiple linear regression in the same was as for simple linear regression."
   ]
  },
  {
   "cell_type": "code",
   "execution_count": null,
   "metadata": {
    "deletable": false,
    "nbgrader": {
     "cell_type": "code",
     "checksum": "91e81c1c3ac9de39c531b35bd41cbdea",
     "grade": true,
     "grade_id": "cell-b62fc79da5c2ec4f",
     "locked": false,
     "points": 0,
     "schema_version": 3,
     "solution": true,
     "task": false
    }
   },
   "outputs": [],
   "source": [
    "#YOUR CODE HERE\n",
    "fail() # No Answer - remove if you provide an answer"
   ]
  },
  {
   "cell_type": "markdown",
   "metadata": {
    "deletable": false,
    "editable": false,
    "nbgrader": {
     "cell_type": "markdown",
     "checksum": "2412256dc92a3c1c657699176e6190d4",
     "grade": false,
     "grade_id": "cell-efbd9446a2dfc380",
     "locked": true,
     "schema_version": 3,
     "solution": false,
     "task": false
    }
   },
   "source": [
    "## Non-identifiability: a simulation\n",
    "\n",
    "Recall that a linear regression model will have non-identifiable parameters when the matrix $\\left(X^TX\\right)^{-1}$ does not exist, where $X$ is the design matrix. $\\left(X^TX\\right)^{-1}$ does not exist when the columns of $X$ are linearly dependent. \n",
    "\n",
    "Let's simulate such a situation. \n",
    "\n",
    "*An aside: simulations are an invaluable tool in statistics and data science. In a simulation, we construct a dataset ourselves, rather than collect it from the world. In doing so, we know how the data were generated. With the simulated data (sometimes called \"synthetic data\"), we can fit various models - models that are correct, and models that are incorrect - and study how those models perform on data with known relationships.*\n",
    "\n",
    "Let's start out by simulating data in the following way. Let $Y_i = 2 + 3x_{i,1} + \\varepsilon_i$,  where $\\varepsilon_i \\overset{iid}{\\sim} N(0, 0.5^2)$,  $i = 1,...,n$, and $n = 75$. We'll generate the predictors, $x_i$ randomly from the interval $(0,1)$. This model will be identifiable."
   ]
  },
  {
   "cell_type": "code",
   "execution_count": 15,
   "metadata": {
    "deletable": false,
    "nbgrader": {
     "cell_type": "code",
     "checksum": "eb85ce6a97fad4e600d7cc1b38213ca1",
     "grade": true,
     "grade_id": "cell-c383b53859e31965",
     "locked": false,
     "points": 1,
     "schema_version": 3,
     "solution": true,
     "task": false
    }
   },
   "outputs": [
    {
     "data": {
      "image/png": "[encoded data removed]",
      "text/plain": [
       "plot without title"
      ]
     },
     "metadata": {},
     "output_type": "display_data"
    }
   ],
   "source": [
    "library(ggplot2)\n",
    "set.seed(1901)\n",
    "n = 75; beta0= 2; beta1 = 3; \n",
    "x = runif(n, 0, 1); \n",
    "sigma = x*0.75\n",
    "e = rnorm(n,0,sigma); \n",
    "y= beta0 + beta1*x + e; \n",
    "df = data.frame(x, y); \n",
    "\n",
    "ggplot(df, aes(x = x, y = y)) + geom_point(alpha = 0.5) + theme_bw()"
   ]
  },
  {
   "cell_type": "markdown",
   "metadata": {
    "deletable": false,
    "editable": false,
    "nbgrader": {
     "cell_type": "markdown",
     "checksum": "253de45cb444d0b6fba05e5b7ed031ee",
     "grade": false,
     "grade_id": "cell-6ead0a77c63aed68",
     "locked": true,
     "schema_version": 3,
     "solution": false,
     "task": false
    }
   },
   "source": [
    "Now that we've simulated the data, let's fit a simple linear regression model to the data. We know that the model will be correct, because we know how the data were generated...we generated it!"
   ]
  },
  {
   "cell_type": "code",
   "execution_count": null,
   "metadata": {
    "deletable": false,
    "nbgrader": {
     "cell_type": "code",
     "checksum": "7d4f469a388879dd1665ab6c5422e346",
     "grade": true,
     "grade_id": "cell-b87926c6a85d02d0",
     "locked": false,
     "points": 1,
     "schema_version": 3,
     "solution": true,
     "task": false
    }
   },
   "outputs": [],
   "source": [
    "#YOUR CODE HERE\n",
    "fail() # No Answer - remove if you provide an answer"
   ]
  },
  {
   "cell_type": "markdown",
   "metadata": {
    "deletable": false,
    "editable": false,
    "nbgrader": {
     "cell_type": "markdown",
     "checksum": "ef45b867ef37915cf0ec6c63a0f9e0d7",
     "grade": false,
     "grade_id": "cell-34c47a185f4cba15",
     "locked": true,
     "schema_version": 3,
     "solution": false,
     "task": false
    }
   },
   "source": [
    "So far, there is nothing alarming in the summary output, because we've fit the correct linear model. Now, let's add a second predictor, $x_{i,2}$, such that $x_{i,2} = 2x_{i,1}$, and $Y_i = 2 + 3x_{i,1} + 2x_{i,2} + \\varepsilon_i$ (same assumptions on $\\varepsilon_i$). This model should be non-identifiable, since two columns in the design matrix will be a constant multiple of each other."
   ]
  },
  {
   "cell_type": "code",
   "execution_count": null,
   "metadata": {
    "deletable": false,
    "nbgrader": {
     "cell_type": "code",
     "checksum": "96b9dde248135d4f929f946b9e70cce4",
     "grade": true,
     "grade_id": "cell-20ced6cae888800d",
     "locked": false,
     "points": 1,
     "schema_version": 3,
     "solution": true,
     "task": false
    }
   },
   "outputs": [],
   "source": [
    "#YOUR CODE HERE\n",
    "fail() # No Answer - remove if you provide an answer"
   ]
  },
  {
   "cell_type": "markdown",
   "metadata": {
    "deletable": false,
    "editable": false,
    "nbgrader": {
     "cell_type": "markdown",
     "checksum": "d0fbdd0b671026bc6c8bb04ea37a1516",
     "grade": false,
     "grade_id": "cell-5e295f95fe40775a",
     "locked": true,
     "schema_version": 3,
     "solution": false,
     "task": false
    }
   },
   "source": [
    "Notice that the row of the cofficients table corresponding to `x2` is populated with `NA`. That is because the coefficient cannot be estimated due to non-identifiability. \n",
    "\n",
    "The situation of \"strict\" non-identifiability is rare and easy to diagnose: if one column is a linear combination of others, it will show up in the coefficients table as `NA`. However, \"near\" non-identifiability, called *collinearity* or *multicollinearity*, is less rare, and a bit trickier to diagnose. Let's simulate some collinear data. We'll set $x_3 = \\gamma x_1$, where $\\gamma \\overset{iid}{\\sim}N(0,0.05^2)$. Then we'll fit the model $Y_i = \\beta_0 + \\beta_1x_{i,1} + \\beta_2x_{i,3} + \\varepsilon_i$."
   ]
  },
  {
   "cell_type": "code",
   "execution_count": null,
   "metadata": {
    "deletable": false,
    "nbgrader": {
     "cell_type": "code",
     "checksum": "ca4ddd384af2e187535145bcc0475e35",
     "grade": true,
     "grade_id": "cell-7ac189d693fa6e42",
     "locked": false,
     "points": 1,
     "schema_version": 3,
     "solution": true,
     "task": false
    }
   },
   "outputs": [],
   "source": [
    "#YOUR CODE HERE\n",
    "fail() # No Answer - remove if you provide an answer"
   ]
  },
  {
   "cell_type": "markdown",
   "metadata": {
    "deletable": false,
    "nbgrader": {
     "cell_type": "markdown",
     "checksum": "ef2edc57117e622ae05bfb4a7da3d6a3",
     "grade": true,
     "grade_id": "cell-70eaf32021a8c111",
     "locked": false,
     "points": 2,
     "schema_version": 3,
     "solution": true,
     "task": false
    }
   },
   "source": [
    "YOUR ANSWER HERE"
   ]
  },
  {
   "cell_type": "code",
   "execution_count": null,
   "metadata": {},
   "outputs": [],
   "source": []
  }
 ],
 "metadata": {
  "kernelspec": {
   "display_name": "R",
   "language": "R",
   "name": "ir"
  },
  "language_info": {
   "codemirror_mode": "r",
   "file_extension": ".r",
   "mimetype": "text/x-r-source",
   "name": "R",
   "pygments_lexer": "r",
   "version": "3.6.1"
  }
 },
 "nbformat": 4,
 "nbformat_minor": 2
}
