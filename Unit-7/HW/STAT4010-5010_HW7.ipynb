{
 "cells": [
  {
   "cell_type": "markdown",
   "metadata": {
    "deletable": false,
    "editable": false,
    "nbgrader": {
     "cell_type": "markdown",
     "checksum": "8c6cffcb332eb3110331fd93a850e9f3",
     "grade": false,
     "grade_id": "cell-6badffe8a7575b37",
     "locked": true,
     "schema_version": 3,
     "solution": false,
     "task": false
    }
   },
   "source": [
    "# Homework #7\n",
    "\n",
    "**See Canvas for HW #7 assignment due date**. Complete all of the following problems. Ideally, the theoretical problems should be answered in a Markdown cell directly underneath the question. If you don't know LaTex/Markdown, you may submit separate handwritten solutions to the theoretical problems. Please do not turn in messy work. Computational problems should be completed in this notebook (using the R kernel is preferred). Computational questions may require code, plots, analysis, interpretation, etc. Working in small groups is allowed, but it is important that you make an effort to master the material and hand in your own work. "
   ]
  },
  {
   "cell_type": "markdown",
   "metadata": {
    "deletable": false,
    "editable": false,
    "nbgrader": {
     "cell_type": "markdown",
     "checksum": "6ca288a22892dfb17227a43177bc1f09",
     "grade": false,
     "grade_id": "cell-57cea8644cfbd927",
     "locked": true,
     "schema_version": 3,
     "solution": false,
     "task": false
    }
   },
   "source": [
    "## A. Theoretical Problems"
   ]
  },
  {
   "cell_type": "markdown",
   "metadata": {
    "deletable": false,
    "editable": false,
    "nbgrader": {
     "cell_type": "markdown",
     "checksum": "7cdf48ea83e1a375a7d1faa07be19aa3",
     "grade": false,
     "grade_id": "cell-3865ef5dd259e8fc",
     "locked": true,
     "schema_version": 3,
     "solution": false,
     "task": false
    }
   },
   "source": [
    "**No theoretical problems this week. Keep working on your project!**"
   ]
  },
  {
   "cell_type": "markdown",
   "metadata": {
    "deletable": false,
    "editable": false,
    "nbgrader": {
     "cell_type": "markdown",
     "checksum": "4d739aac5a580cbdefeb42f651024cdf",
     "grade": false,
     "grade_id": "cell-e4e117c6d6a1bdca",
     "locked": true,
     "schema_version": 3,
     "solution": false,
     "task": false
    }
   },
   "source": [
    "## B. Computational Problems"
   ]
  },
  {
   "cell_type": "markdown",
   "metadata": {
    "deletable": false,
    "editable": false,
    "nbgrader": {
     "cell_type": "markdown",
     "checksum": "1e10823f2ad9e375b5f9964750965a34",
     "grade": false,
     "grade_id": "cell-605f44f7aba74d1f",
     "locked": true,
     "schema_version": 3,
     "solution": false,
     "task": false
    }
   },
   "source": [
    "# B.1: Advertising data\n",
    "\n",
    "The following dataset containts measurements related to the impact of three advertising medias on sales of a product, $P$. The variables are:\n",
    "\n",
    "- `youtube`: the advertising budget allocated to YouTube. Measured in thousands of dollars;\n",
    "\n",
    "- `facebook`: the advertising budget allocated to Facebook. Measured in thousands of dollars; and \n",
    "\n",
    "- `newspaper`: the advertising budget allocated to a local newspaper. Measured in thousands of dollars.\n",
    "\n",
    "- `sales`: the value in the $i^{th}$ row of the sales column is a measurement of the sales (in thousands of units) for product $P$ for company $i$.\n",
    "\n",
    "The advertising data treat \"a company selling product $P$\" as the statistical unit, and \"all companies selling product $P$\" as the population. We assume that the $n = 200$ companies in the dataset were chosen at random from the population (a strong assumption!).\n",
    "\n",
    "First, we load the data, plot it, and split it into a training set (`train_marketing`) and a test set (`test_marketing`)."
   ]
  },
  {
   "cell_type": "code",
   "execution_count": null,
   "metadata": {
    "deletable": false,
    "editable": false,
    "nbgrader": {
     "cell_type": "code",
     "checksum": "ff2b632adf8828565f8deffd69417a37",
     "grade": false,
     "grade_id": "cell-674c11ca545464cc",
     "locked": true,
     "schema_version": 3,
     "solution": false,
     "task": false
    }
   },
   "outputs": [],
   "source": [
    "library(ggplot2)\n",
    "library(mgcv)\n",
    "\n",
    "marketing = read.csv(\"https://raw.githubusercontent.com/bzaharatos/-Statistical-Modeling-for-Data-Science-Applications/master/Modern%20Regression%20Analysis%20/Datasets/marketing.txt\", sep = \"\")\n",
    "summary(marketing)\n",
    "pairs(marketing, main = \"Marketing Data\", pch = 21, \n",
    "      bg = c(\"#CFB87C\"))"
   ]
  },
  {
   "cell_type": "code",
   "execution_count": null,
   "metadata": {
    "deletable": false,
    "editable": false,
    "nbgrader": {
     "cell_type": "code",
     "checksum": "9d80300abea94033ebcffac39e7eeedd",
     "grade": false,
     "grade_id": "cell-6d00fee846cb46d7",
     "locked": true,
     "schema_version": 3,
     "solution": false,
     "task": false
    }
   },
   "outputs": [],
   "source": [
    "set.seed(1771) #set the random number generator seed.\n",
    "n = floor(0.8 * nrow(marketing)) #find the number corresponding to 80% of the data\n",
    "index = sample(seq_len(nrow(marketing)), size = n) #randomly sample indicies to be included in the training set\n",
    "\n",
    "train_marketing = marketing[index, ] #set the training set to be the randomly sampled rows of the dataframe\n",
    "test_marketing = marketing[-index, ] #set the testing set to be the remaining rows\n",
    "dim(test_marketing) #check the dimensions\n",
    "dim(train_marketing) #check the dimensions"
   ]
  },
  {
   "cell_type": "markdown",
   "metadata": {
    "deletable": false,
    "editable": false,
    "nbgrader": {
     "cell_type": "markdown",
     "checksum": "e6cd11eae129c622085be1436ef8df6f",
     "grade": false,
     "grade_id": "cell-8d09404a23e2f0de",
     "locked": true,
     "schema_version": 3,
     "solution": false,
     "task": false
    }
   },
   "source": [
    "### B.1.(a) [8 points] Working with nonlinearity: Kernel regression\n",
    "\n",
    "Note that the relationship between `sales` and `youtube` is nonlinear. This was a problem for us earlier in the semester, when we modeled the data as if they were linear. For now, let's just focus on the relationship between `sales` and `youtube`, omitting the other variables (later, we will bring back other predictors).\n",
    "\n",
    "Using the `train_marketing` set, plot `sales` (response) against `youtube` (predictor), and then fit and overlay a kernel regression. Experiment with the bandwidth parameter until the smooth looks appropriate, or comment why no bandwidth is ideal. Justify your answer."
   ]
  },
  {
   "cell_type": "code",
   "execution_count": null,
   "metadata": {
    "deletable": false,
    "nbgrader": {
     "cell_type": "code",
     "checksum": "918edf4731258e909e1ccf7815f2e50b",
     "grade": true,
     "grade_id": "cell-b9899a240a6696a2",
     "locked": false,
     "points": 5,
     "schema_version": 3,
     "solution": true,
     "task": false
    }
   },
   "outputs": [],
   "source": [
    "#YOUR CODE HERE\n",
    "fail() # No Answer - remove if you provide an answer"
   ]
  },
  {
   "cell_type": "markdown",
   "metadata": {
    "deletable": false,
    "nbgrader": {
     "cell_type": "markdown",
     "checksum": "c8be4628c64017db0306048920667186",
     "grade": true,
     "grade_id": "cell-c362c782cfd176f0",
     "locked": false,
     "points": 3,
     "schema_version": 3,
     "solution": true,
     "task": false
    }
   },
   "source": [
    "YOUR ANSWER HERE"
   ]
  },
  {
   "cell_type": "markdown",
   "metadata": {
    "deletable": false,
    "editable": false,
    "nbgrader": {
     "cell_type": "markdown",
     "checksum": "1b65debc86f8d3453f748d8771e44b8e",
     "grade": false,
     "grade_id": "cell-db0e8fefffcef7f2",
     "locked": true,
     "schema_version": 3,
     "solution": false,
     "task": false
    }
   },
   "source": [
    "### B.1.(b) [5 points *STAT 5010 only*] Working with nonlinearity: Smoothing spline regression \n",
    "\n",
    "Again, using the `train_marketing` set, plot `sales` (response) against `youtube` (predictor). This time, fit and overlay a smoothing spline regression model. Experiment with the smoothing parameter until the smooth looks appropriate. Explain why it's appropriate and justify your answer."
   ]
  },
  {
   "cell_type": "code",
   "execution_count": null,
   "metadata": {
    "deletable": false,
    "nbgrader": {
     "cell_type": "code",
     "checksum": "93036f37964cb9e95643b280dd7bc7d5",
     "grade": true,
     "grade_id": "cell-a1e40db9addfdfd8",
     "locked": false,
     "points": 4,
     "schema_version": 3,
     "solution": true,
     "task": false
    }
   },
   "outputs": [],
   "source": [
    "#YOUR CODE HERE\n",
    "fail() # No Answer - remove if you provide an answer"
   ]
  },
  {
   "cell_type": "markdown",
   "metadata": {
    "deletable": false,
    "nbgrader": {
     "cell_type": "markdown",
     "checksum": "8eaa6b69f432d254a076235b27e262cb",
     "grade": true,
     "grade_id": "cell-f9432ab6423df410",
     "locked": false,
     "points": 1,
     "schema_version": 3,
     "solution": true,
     "task": false
    }
   },
   "source": [
    "YOUR ANSWER HERE"
   ]
  },
  {
   "cell_type": "markdown",
   "metadata": {
    "deletable": false,
    "editable": false,
    "nbgrader": {
     "cell_type": "markdown",
     "checksum": "5f64b760811e48a33988e6ddfc0ab3b0",
     "grade": false,
     "grade_id": "cell-82a4e960c55dbc9f",
     "locked": true,
     "schema_version": 3,
     "solution": false,
     "task": false
    }
   },
   "source": [
    "### B.1.(c) [5 points, *STAT 5010 only*] Working with nonlinearity: Loess\n",
    "\n",
    "Again, using the `train_marketing` set, plot `sales` (response) against `youtube` (predictor). This time, fit and overlay a loess regression model. You can use the `loess()` function in a similar way as the `lm()` function. Experiment with the smoothing parameter (`span` in the `geom_smooth()` function) until the smooth looks appropriate. Explain why it's appropriate and justify your answer."
   ]
  },
  {
   "cell_type": "code",
   "execution_count": null,
   "metadata": {
    "deletable": false,
    "nbgrader": {
     "cell_type": "code",
     "checksum": "6636ba477340bfd897d8aa4bdeffe225",
     "grade": true,
     "grade_id": "cell-32ded4d63d1b1d57",
     "locked": false,
     "points": 4,
     "schema_version": 3,
     "solution": true,
     "task": false
    }
   },
   "outputs": [],
   "source": [
    "#YOUR CODE HERE\n",
    "fail() # No Answer - remove if you provide an answer"
   ]
  },
  {
   "cell_type": "markdown",
   "metadata": {
    "deletable": false,
    "nbgrader": {
     "cell_type": "markdown",
     "checksum": "07143460e3cc4e1840c4d54969d4baf6",
     "grade": true,
     "grade_id": "cell-89a6dd7717f4df6c",
     "locked": false,
     "points": 1,
     "schema_version": 3,
     "solution": true,
     "task": false
    }
   },
   "source": [
    "YOUR ANSWER HERE"
   ]
  },
  {
   "cell_type": "markdown",
   "metadata": {
    "deletable": false,
    "editable": false,
    "nbgrader": {
     "cell_type": "markdown",
     "checksum": "a3c10f2d24b0713dc0206ba9585f614e",
     "grade": false,
     "grade_id": "cell-e9964a1f6c2a2c59",
     "locked": true,
     "schema_version": 3,
     "solution": false,
     "task": false
    }
   },
   "source": [
    "### B.1.(d) [10 points] A prediction metric\n",
    "\n",
    "***STAT 4010*: Compare the model fit on B.1 (a) with a standard linear regression model. Use the MSPE as your prediction metric on the `test_marketing` dataset. That is, calculate the MSPE for your kernel regressionand standard linear regression, and identify which model is best in terms of this metric.**\n",
    "\n",
    "***STAT 5010*: Compare the models in B.1 (a) - (c) using the mean squared prediction error (MSPE) on the `test_marketing` dataset. That is, calculate the MSPE for your kernel regression, smoothing spline regression, and loess model, and identify which model is best in terms of this metric.**\n",
    "\n",
    "Remember, the MSPE is given by \n",
    "\n",
    "\\begin{align*}\n",
    "MSPE = \\frac{1}{k}\\sum^k_{i=1}\\left(y^\\star_i - \\widehat{y}^\\star_i \\right)^2 \n",
    "\\end{align*}\n",
    "\n",
    "where $y^\\star_i$ are the observed response values in the test set and $\\widehat{y}^\\star_i$ are the predicted values for the test set (using the model fit on the training set)."
   ]
  },
  {
   "cell_type": "code",
   "execution_count": null,
   "metadata": {
    "deletable": false,
    "nbgrader": {
     "cell_type": "code",
     "checksum": "7b5116e8ee97a6ddfd5036bf9a79d6d6",
     "grade": true,
     "grade_id": "cell-beb3b9a586df78c0",
     "locked": false,
     "points": 8,
     "schema_version": 3,
     "solution": true,
     "task": false
    }
   },
   "outputs": [],
   "source": [
    "#YOUR CODE HERE\n",
    "fail() # No Answer - remove if you provide an answer"
   ]
  },
  {
   "cell_type": "markdown",
   "metadata": {
    "deletable": false,
    "nbgrader": {
     "cell_type": "markdown",
     "checksum": "f48e833dd0d3148b543118ade7206a4d",
     "grade": true,
     "grade_id": "cell-2947fb7b9c90e6e8",
     "locked": false,
     "points": 2,
     "schema_version": 3,
     "solution": true,
     "task": false
    }
   },
   "source": [
    "YOUR ANSWER HERE"
   ]
  },
  {
   "cell_type": "markdown",
   "metadata": {
    "deletable": false,
    "editable": false,
    "nbgrader": {
     "cell_type": "markdown",
     "checksum": "70306a6951adc70726e43f768408f2ec",
     "grade": false,
     "grade_id": "cell-e63a6845cb89da6c",
     "locked": true,
     "schema_version": 3,
     "solution": false,
     "task": false
    }
   },
   "source": [
    "# B.2 Simulations! (31 points)\n",
    "\n",
    "**Simulate data (one predictor and one response) with your own nonlinear relationship. Then answer the questions above (B.1.(a) - B.1.(d)) using your simulated data (*STAT 4010, you only need to do part (a)*).**"
   ]
  },
  {
   "cell_type": "markdown",
   "metadata": {
    "deletable": false,
    "editable": false,
    "nbgrader": {
     "cell_type": "markdown",
     "checksum": "451ccfb57e519c2e9e278fc6561b195e",
     "grade": false,
     "grade_id": "cell-8ca17bd2988f622c",
     "locked": true,
     "schema_version": 3,
     "solution": false,
     "task": false
    }
   },
   "source": [
    "Simulate $n = 200$ ($x,y)$ pairs in the following way: let $x$ be random uniform numbers between zero and $\\pi/2$.  Let $y_i = \\sin(\\pi x_i) = \\varepsilon_i, \\,\\,\\, \\varepsilon_i \\overset{iid}{\\sim} N(0, 0.5^2)$.  Plot $y$ as a function of $x$. Would a linear parametric model do well in explanation/prediction for this dataset? "
   ]
  },
  {
   "cell_type": "code",
   "execution_count": null,
   "metadata": {
    "deletable": false,
    "nbgrader": {
     "cell_type": "code",
     "checksum": "8ff27397931c5a0960e63082246ba836",
     "grade": true,
     "grade_id": "cell-7934ae340a5d8473",
     "locked": false,
     "points": 8,
     "schema_version": 3,
     "solution": true,
     "task": false
    }
   },
   "outputs": [],
   "source": [
    "#YOUR CODE HERE\n",
    "fail() # No Answer - remove if you provide an answer"
   ]
  },
  {
   "cell_type": "code",
   "execution_count": null,
   "metadata": {
    "deletable": false,
    "nbgrader": {
     "cell_type": "code",
     "checksum": "f8d15193203eeca06159f633407119c1",
     "grade": true,
     "grade_id": "cell-faf3b785ee4490ad",
     "locked": false,
     "points": 5,
     "schema_version": 3,
     "solution": true,
     "task": false
    }
   },
   "outputs": [],
   "source": [
    "#YOUR CODE HERE\n",
    "fail() # No Answer - remove if you provide an answer"
   ]
  },
  {
   "cell_type": "code",
   "execution_count": null,
   "metadata": {
    "deletable": false,
    "nbgrader": {
     "cell_type": "code",
     "checksum": "653f532ca462ce5aa18fdfbe2e9cf803",
     "grade": true,
     "grade_id": "cell-503dcd80b29c05d0",
     "locked": false,
     "points": 5,
     "schema_version": 3,
     "solution": true,
     "task": false
    }
   },
   "outputs": [],
   "source": [
    "#YOUR CODE HERE\n",
    "fail() # No Answer - remove if you provide an answer"
   ]
  },
  {
   "cell_type": "code",
   "execution_count": null,
   "metadata": {
    "deletable": false,
    "nbgrader": {
     "cell_type": "code",
     "checksum": "9920e8e8e0f82554671e2d8d384e5008",
     "grade": true,
     "grade_id": "cell-d5b1697b73317c0d",
     "locked": false,
     "points": 5,
     "schema_version": 3,
     "solution": true,
     "task": false
    }
   },
   "outputs": [],
   "source": [
    "#YOUR CODE HERE\n",
    "fail() # No Answer - remove if you provide an answer"
   ]
  },
  {
   "cell_type": "code",
   "execution_count": null,
   "metadata": {
    "deletable": false,
    "nbgrader": {
     "cell_type": "code",
     "checksum": "9ead67d33dcf288cf85defc81d7c3419",
     "grade": true,
     "grade_id": "cell-30a344e5f8e9931a",
     "locked": false,
     "points": 5,
     "schema_version": 3,
     "solution": true,
     "task": false
    }
   },
   "outputs": [],
   "source": [
    "#YOUR CODE HERE\n",
    "fail() # No Answer - remove if you provide an answer"
   ]
  },
  {
   "cell_type": "markdown",
   "metadata": {
    "deletable": false,
    "nbgrader": {
     "cell_type": "markdown",
     "checksum": "ca38a3a448b4c7e50faa903804a30a34",
     "grade": true,
     "grade_id": "cell-40b477197e4cd111",
     "locked": false,
     "points": 3,
     "schema_version": 3,
     "solution": true,
     "task": false
    }
   },
   "source": [
    "YOUR ANSWER HERE"
   ]
  },
  {
   "cell_type": "markdown",
   "metadata": {
    "deletable": false,
    "editable": false,
    "nbgrader": {
     "cell_type": "markdown",
     "checksum": "44d17111fa619b69fb2ed1f22f69ae99",
     "grade": false,
     "grade_id": "cell-81833ee93fbde14e",
     "locked": true,
     "schema_version": 3,
     "solution": false,
     "task": false
    }
   },
   "source": [
    "# B.3 Additive models with the advertising data\n",
    "\n",
    "The following dataset containts measurements related to the impact of three advertising medias on sales of a product, $P$. The variables are:\n",
    "\n",
    "- `youtube`: the advertising budget allocated to YouTube. Measured in thousands of dollars;\n",
    "\n",
    "- `facebook`: the advertising budget allocated to Facebook. Measured in thousands of dollars; and \n",
    "\n",
    "- `newspaper`: the advertising budget allocated to a local newspaper. Measured in thousands of dollars.\n",
    "\n",
    "- `sales`: the value in the $i^{th}$ row of the sales column is a measurement of the sales (in thousands of units) for product $P$ for company $i$.\n",
    "\n",
    "The advertising data treat \"a company selling product $P$\" as the statistical unit, and \"all companies selling product $P$\" as the population. We assume that the $n = 200$ companies in the dataset were chosen at random from the population (a strong assumption!).\n",
    "\n",
    "First, we load the data, plot it, and split it into a training set (`train_marketing`) and a test set (`test_marketing`)."
   ]
  },
  {
   "cell_type": "code",
   "execution_count": null,
   "metadata": {
    "deletable": false,
    "editable": false,
    "nbgrader": {
     "cell_type": "code",
     "checksum": "abfa0fb5709b88c65040cd6cdcb8cea3",
     "grade": false,
     "grade_id": "cell-c48b891a32c2da81",
     "locked": true,
     "schema_version": 3,
     "solution": false,
     "task": false
    }
   },
   "outputs": [],
   "source": [
    "library(ggplot2)\n",
    "library(mgcv)\n",
    "\n",
    "marketing = read.csv(\"https://raw.githubusercontent.com/bzaharatos/-Statistical-Modeling-for-Data-Science-Applications/master/Modern%20Regression%20Analysis%20/Datasets/marketing.txt\",sep = \"\")\n",
    "head(marketing)\n",
    "pairs(marketing, main = \"Marketing Data\", pch = 21, \n",
    "      bg = c(\"#CFB87C\"))"
   ]
  },
  {
   "cell_type": "code",
   "execution_count": null,
   "metadata": {
    "deletable": false,
    "editable": false,
    "nbgrader": {
     "cell_type": "code",
     "checksum": "991505788fcea891c5acca04d8de73ee",
     "grade": false,
     "grade_id": "cell-3bbf60f5dc71a3bb",
     "locked": true,
     "schema_version": 3,
     "solution": false,
     "task": false
    }
   },
   "outputs": [],
   "source": [
    "set.seed(177) #set the random number generator seed.\n",
    "n = floor(0.8 * nrow(marketing)) #find the number corresponding to 80% of the data\n",
    "index = sample(seq_len(nrow(marketing)), size = n) #randomly sample indicies to be included in the training set\n",
    "\n",
    "train_marketing = marketing[index, ] #set the training set to be the randomly sampled rows of the dataframe\n",
    "test_marketing = marketing[-index, ] #set the testing set to be the remaining rows\n",
    "dim(test_marketing) #check the dimensions\n",
    "dim(train_marketing) #check the dimensions"
   ]
  },
  {
   "cell_type": "markdown",
   "metadata": {
    "deletable": false,
    "editable": false,
    "nbgrader": {
     "cell_type": "markdown",
     "checksum": "b5f67610383d83adf530bcb6b4ef1208",
     "grade": false,
     "grade_id": "cell-debfee38ba15ce5f",
     "locked": true,
     "schema_version": 3,
     "solution": false,
     "task": false
    }
   },
   "source": [
    "**B.3.(a) [10 points] Let's try a GAM on the marketing data!**\n",
    "\n",
    "Note that the relationship between `sales` and `youtube` is nonlinear. This was a problem for us back in the first course in this specialization, when we modeled the data as if it were linear. In the last module, we focused on modeling the relationship between `sales` and `youtube`, omitting the other variables. Now it's time to include the additional predictors.\n",
    "\n",
    "Using the `train_marketing` fit an additive model to the data and store it in `gam_marketing`. Produce the relevant added variable plots using `plot(gam_marketing)`. Comment on the fit of the model."
   ]
  },
  {
   "cell_type": "code",
   "execution_count": null,
   "metadata": {
    "deletable": false,
    "nbgrader": {
     "cell_type": "code",
     "checksum": "34a14b16acd6d5fd009586a8b0486b83",
     "grade": true,
     "grade_id": "cell-ec9dc2c86f82eb28",
     "locked": false,
     "points": 6,
     "schema_version": 3,
     "solution": true,
     "task": false
    }
   },
   "outputs": [],
   "source": [
    "#YOUR CODE HERE\n",
    "fail() # No Answer - remove if you provide an answer"
   ]
  },
  {
   "cell_type": "markdown",
   "metadata": {
    "deletable": false,
    "nbgrader": {
     "cell_type": "markdown",
     "checksum": "4a6045824cd289cf462ed1ccbcdd2528",
     "grade": true,
     "grade_id": "cell-e3758db943162a48",
     "locked": false,
     "points": 4,
     "schema_version": 3,
     "solution": true,
     "task": false
    }
   },
   "source": [
    "YOUR ANSWER HERE"
   ]
  },
  {
   "cell_type": "markdown",
   "metadata": {
    "deletable": false,
    "editable": false,
    "nbgrader": {
     "cell_type": "markdown",
     "checksum": "ad27a7a70fb387af542d405a9ecb4202",
     "grade": false,
     "grade_id": "cell-c7885258873f6135",
     "locked": true,
     "schema_version": 3,
     "solution": false,
     "task": false
    }
   },
   "source": [
    "**B.3.(b) [10 points] Semiparametric modeling of the marketing data.**\n",
    "\n",
    "Refit the additive model based on your results from 3.(a). That is, if any predictors above should enter linearly, refit the model to reflect that. If any predictors are statistically insignificant, remove them from the model. Store your final model in `semiparametric_marketing`."
   ]
  },
  {
   "cell_type": "code",
   "execution_count": null,
   "metadata": {
    "deletable": false,
    "nbgrader": {
     "cell_type": "code",
     "checksum": "ff08d5267870627ecdf460a3dd70976e",
     "grade": true,
     "grade_id": "cell-4f467f692b767e89",
     "locked": false,
     "points": 6,
     "schema_version": 3,
     "solution": true,
     "task": false
    }
   },
   "outputs": [],
   "source": [
    "#YOUR CODE HERE\n",
    "fail() # No Answer - remove if you provide an answer"
   ]
  },
  {
   "cell_type": "markdown",
   "metadata": {
    "deletable": false,
    "nbgrader": {
     "cell_type": "markdown",
     "checksum": "9f234eaa2742fe8cbba796a573dc3e76",
     "grade": true,
     "grade_id": "cell-58656f0fd3db73ad",
     "locked": false,
     "points": 2,
     "schema_version": 3,
     "solution": true,
     "task": false
    },
    "scrolled": false
   },
   "source": [
    "YOUR ANSWER HERE"
   ]
  },
  {
   "cell_type": "code",
   "execution_count": null,
   "metadata": {
    "deletable": false,
    "nbgrader": {
     "cell_type": "code",
     "checksum": "b6885e2c717351baa79afa3ceb880e71",
     "grade": true,
     "grade_id": "cell-f670539cc563ebfc",
     "locked": false,
     "points": 2,
     "schema_version": 3,
     "solution": true,
     "task": false
    }
   },
   "outputs": [],
   "source": [
    "#YOUR CODE HERE\n",
    "fail() # No Answer - remove if you provide an answer"
   ]
  },
  {
   "cell_type": "markdown",
   "metadata": {
    "deletable": false,
    "editable": false,
    "nbgrader": {
     "cell_type": "markdown",
     "checksum": "6f4505c496eb52607ad9c893813b2540",
     "grade": false,
     "grade_id": "cell-b7955838d4079b75",
     "locked": true,
     "schema_version": 3,
     "solution": false,
     "task": false
    }
   },
   "source": [
    "**B.3.(c) [15 points] Model comparisons**\n",
    "\n",
    "Now, let's do some model comparisons on the test data. Compute the mean squared prediction error (MSPE) on the `test_marketing` data for the following three models:\n",
    "\n",
    "- `gam_marketing` from 3.(a)\n",
    "\n",
    "\n",
    "- `semiparametric_marketing`from 3.(b)\n",
    "\n",
    "\n",
    "- `lm_marketing`, a linear regression model with `sales` is the response and `youtube` and `facebook` are predictors (fit on the `train_marketing` data).\n",
    "\n",
    "State which model performs based according to this metric."
   ]
  },
  {
   "cell_type": "code",
   "execution_count": null,
   "metadata": {
    "deletable": false,
    "nbgrader": {
     "cell_type": "code",
     "checksum": "612f4a458092b14994cd8ea08e087aee",
     "grade": true,
     "grade_id": "cell-feb2ba652d1647d6",
     "locked": false,
     "points": 12,
     "schema_version": 3,
     "solution": true,
     "task": false
    }
   },
   "outputs": [],
   "source": [
    "#YOUR CODE HERE\n",
    "fail() # No Answer - remove if you provide an answer"
   ]
  },
  {
   "cell_type": "markdown",
   "metadata": {
    "deletable": false,
    "nbgrader": {
     "cell_type": "markdown",
     "checksum": "d79d3bb784ae6bcc5c8209b1d3692ea5",
     "grade": true,
     "grade_id": "cell-aaec376842040c40",
     "locked": false,
     "points": 3,
     "schema_version": 3,
     "solution": true,
     "task": false
    }
   },
   "source": [
    "YOUR ANSWER HERE"
   ]
  },
  {
   "cell_type": "code",
   "execution_count": null,
   "metadata": {},
   "outputs": [],
   "source": []
  }
 ],
 "metadata": {
  "kernelspec": {
   "display_name": "R",
   "language": "R",
   "name": "ir"
  },
  "language_info": {
   "codemirror_mode": "r",
   "file_extension": ".r",
   "mimetype": "text/x-r-source",
   "name": "R",
   "pygments_lexer": "r",
   "version": "3.6.1"
  }
 },
 "nbformat": 4,
 "nbformat_minor": 2
}
